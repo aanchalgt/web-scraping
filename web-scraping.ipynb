{
 "cells": [
  {
   "cell_type": "markdown",
   "metadata": {},
   "source": [
    "# Web Mining and Applied NLP (44-620)\n",
    "\n",
    "## Web Scraping and NLP with Requests, BeautifulSoup, and spaCy\n",
    "\n",
    "### Student Name: Aanchal Gupta\n",
    "#### Github repo : https://github.com/aanchalgt/web-scraping\n",
    "\n",
    "Perform the tasks described in the Markdown cells below.  When you have completed the assignment make sure your code cells have all been run (and have output beneath them) and ensure you have committed and pushed ALL of your changes to your assignment repository.\n",
    "\n",
    "Every question that requires you to write code will have a code cell underneath it; you may either write your entire solution in that cell or write it in a python file (`.py`), then import and run the appropriate code to answer the question."
   ]
  },
  {
   "cell_type": "markdown",
   "metadata": {},
   "source": [
    "### Question 1"
   ]
  },
  {
   "cell_type": "markdown",
   "metadata": {},
   "source": [
    "1. Write code that extracts the article html from https://web.archive.org/web/20210327165005/https://hackaday.com/2021/03/22/how-laser-headlights-work/ and dumps it to a .pkl (or other appropriate file)"
   ]
  },
  {
   "cell_type": "code",
   "execution_count": 1,
   "metadata": {},
   "outputs": [
    {
     "name": "stdout",
     "output_type": "stream",
     "text": [
      "Article HTML saved to article.pkl\n"
     ]
    }
   ],
   "source": [
    "import requests\n",
    "from bs4 import BeautifulSoup\n",
    "import pickle\n",
    "\n",
    "# URL of the webpage\n",
    "url = \"https://web.archive.org/web/20210327165005/https://hackaday.com/2021/03/22/how-laser-headlights-work/\"\n",
    "\n",
    "# Fetch the HTML content from the URL\n",
    "response = requests.get(url)\n",
    "\n",
    "# Check if the request was successful (status code 200)\n",
    "if response.status_code == 200:\n",
    "    # Parse the HTML content\n",
    "    soup = BeautifulSoup(response.text, 'html.parser')\n",
    "    \n",
    "    # Extract the article content (assuming the main article is in <article> tag)\n",
    "    article = soup.find('article')\n",
    "    \n",
    "    # Serialize the article HTML content to a .pkl file\n",
    "    with open('article.pkl', 'wb') as f:\n",
    "        pickle.dump(article.prettify(), f)\n",
    "    print(\"Article HTML saved to article.pkl\")\n",
    "else:\n",
    "    print(f\"Failed to retrieve the webpage. Status code: {response.status_code}\")\n"
   ]
  },
  {
   "cell_type": "markdown",
   "metadata": {},
   "source": [
    "### Question 2:\n"
   ]
  },
  {
   "cell_type": "markdown",
   "metadata": {},
   "source": [
    "2. Read in your article's html source from the file you created in question 1 and print it's text (use `.get_text()`)"
   ]
  },
  {
   "cell_type": "code",
   "execution_count": 2,
   "metadata": {},
   "outputs": [
    {
     "name": "stdout",
     "output_type": "stream",
     "text": [
      "\n",
      "\n",
      "\n",
      "   How Laser Headlights Work\n",
      "  \n",
      "\n",
      "\n",
      "\n",
      "\n",
      "    130 Comments\n",
      "   \n",
      "\n",
      "\n",
      "     by:\n",
      "    \n",
      "\n",
      "\n",
      "      Lewin Day\n",
      "     \n",
      "\n",
      "\n",
      "\n",
      "\n",
      "\n",
      "\n",
      "\n",
      "     March 22, 2021\n",
      "    \n",
      "\n",
      "\n",
      "\n",
      "\n",
      "\n",
      "\n",
      "\n",
      "\n",
      "\n",
      "\n",
      "\n",
      "\n",
      "\n",
      "\n",
      "\n",
      "\n",
      "\n",
      "\n",
      "\n",
      "\n",
      "\n",
      "\n",
      "\n",
      "\n",
      "   When we think about the onward march of automotive technology, headlights aren’t usually the first thing that come to mind. Engines, fuel efficiency, and the switch to electric power are all more front of mind. However, that doesn’t mean there aren’t thousands of engineers around the world working to improve the state of the art in automotive lighting day in, day out.\n",
      "  \n",
      "\n",
      "   Sealed beam headlights gave way to more modern designs once regulations loosened up, while bulbs moved from simple halogens to xenon HIDs and, more recently, LEDs. Now, a new technology is on the scene, with lasers!\n",
      "  \n",
      "\n",
      "\n",
      "\n",
      "\n",
      "\n",
      "   Laser Headlights?!\n",
      "  \n",
      "\n",
      "\n",
      "\n",
      "     BWM’s prototype laser headlight assemblies undergoing testing.\n",
      "    \n",
      "\n",
      "\n",
      "   The first image brought to mind by the phrase “laser headlights” is that of laser beams firing out the front of an automobile. Obviously, coherent beams of monochromatic light would make for poor illumination outside of a very specific spot quite some distance away. Thankfully for our eyes, laser headlights don’t work in this way at all.\n",
      "  \n",
      "\n",
      "   Instead, laser headlights consist of one or more solid state laser diodes mounted inside the headlight. These blue lasers are fired at a yellow phosphor, similar to that used in white LEDs. This produces a powerful, vibrant white light that can then be bounced off reflectors and out of the headlights towards the road. Laser headlights built in this way have several benefits. They’re more energy efficient than LEDs that put out the same amount of light, while also being more space efficient, too.\n",
      "  \n",
      "\n",
      "\n",
      "\n",
      "     BWM’s futuristic i8 was one of the first vehicles to ship with laser headlight technology.\n",
      "    \n",
      "\n",
      "\n",
      "   Laser headlights are still a nascent technology, thus far only appearing in a few BMW, Audi, and other select vehicles.\n",
      "   \n",
      "    BMW’s technology was developed in partnership with lighting experts OSRAM\n",
      "   \n",
      "   . In practice, a regular LED low-beam lamp is used, with the laser used to create an incredibly bright and focused spot, used for high-beams. This can provide illumination out to 600 meters ahead of the vehicle, double that of conventional LED high beams. The lights use indium gallium nitride diode lasers that were originally used in projectors, with power levels above 1 watt. One of the challenges in implementing such technology in an automotive environment is the need for it to operate at temperature extremes. While research lasers and laser pointers may primarily be used at typical room temperatures, automotive headlights must be able to withstand everything from 40 degrees below zero up to 50 degrees C. Thankfully, the laser’s high efficiency means it doesn’t have huge heat output of its own to further complicate things. Other engineering challenges involve tailoring the optics package for the rough-and-tumble, high vibration environment found in the automotive application. It’s also important to ensure, as with any such device, that the end user can’t be exposed to harmful laser radiation in the event of accident or malfunction.\n",
      "  \n",
      "\n",
      "   Tearing Down the Laser Headlight\n",
      "  \n",
      "\n",
      "\n",
      "\n",
      "    A marketing image showing the construction of an aftermarket LED/laser headlight. We’d take the laser power with a grain of salt — it’s difficult to imagine a 10 W laser shining directly on some small LEDs without melting a hole through the board in short order.\n",
      "   \n",
      "\n",
      "\n",
      "   An aftermarket has sprung up too, with delightfully innovative designs. Combined laser/LED headlights are readily available on Alibaba,\n",
      "   \n",
      "    designed as a drop in replacement for projector lamps on existing vehicles.\n",
      "   \n",
      "   These often use an LED low-beam, and a combined LED/laser high beam, where the laser diode shoots directly at the LED phosphor to excite it further, rather than using its own. These units often also come with fan cooling to keep the laser and LEDs below their maximum operational temperature. Such developments are exciting, though it’s important to be wary of the performance of unknown aftermarket headlights.\n",
      "   \n",
      "    Many aftermarket LED headlight “upgrades” fail to pass muster\n",
      "   \n",
      "   when it comes to real-world performance, and there’s no reason to believe hybrid LED/laser designs will be any different. We’d love to pass a selection of these parts through\n",
      "   \n",
      "    a full IIHS test protocol\n",
      "   \n",
      "   , but that’s sadly beyond the scope (and budget!) of this article.\n",
      "  \n",
      "\n",
      "   However, [mikeselectricstuff] has happened to lay his hands on both the BMW and aftermarket parts,\n",
      "   \n",
      "    tearing them all down in his workshop to see what makes them tick.\n",
      "   \n",
      "   The differences are multitude when laid bare on the bench. The AliExpress part is relatively simple, wired up no differently from a regular headlight. Interestingly, however, the laser high-beam circuit runs all the time in these parts. To prevent blinding other road users, a shutter is kept in place to block the light, which is moved out of the way with a solenoid when the driver turns on the high beam switch.\n",
      "  \n",
      "\n",
      "   Where the aftermarket part is a little out of left field, the BMW design is another thing entirely. The cutting-edge headlights are hooked up with multiple connectors and over 30 conductors, with much of the driver electronics living in an external controller. Much of this is to drive the various LEDs and stepper motors for slewing the headlights when steering. However, the laser assembly brings its own complexities. Twin light sensors are built inside to monitor the laser beam, and a special metal blocking arm sits directly in front of the diode, presumably to stop the laser light leaving the headlight in the event the phosphor coating burns through. It’s truly wild to get a look inside a modern luxury car’s headlight and see just how far we’ve come from the old days of simple sealed beams.\n",
      "  \n",
      "\n",
      "   Cost Versus Performance\n",
      "  \n",
      "\n",
      "   Despite the efficiency gains available, the technology remains expensive. Powerful laser diodes don’t come cheap, after all. However, as the technology trickles down to lower-end models, it’s likely that we could see economies of scale change that for the better. Indeed, if national authorities begin to demand higher performance headlights as standard, we could see laser headlights become the norm, rather than an expensive luxury. The technology could naturally be applied to home and commercial lighting, too — though we suspect the potential gains are limited enough that LED lighting will remain the norm for some time to come.\n",
      "  \n",
      "\n",
      "\n",
      "\n",
      "    The high light output of laser headlights in a compact package allows engineers greater freedom when designing the front-end of a car.\n",
      "   \n",
      "\n",
      "\n",
      "   As it currently stands, much of the appeal of the new technology is about the packaging benefits, which allow automotive designers greater freedom around the headlight area. Such concerns are less of a factor when it comes to light fittings in the home or office, or indeed, on lower-end automobiles. Regardless, it’s an exciting new application for lasers and one we’ll be sure to see more of in the future.\n",
      "  \n",
      "\n",
      "\n",
      "\n",
      "\n",
      "\n",
      "\n",
      "\n",
      "\n",
      "\n",
      "\n",
      "\n",
      "\n",
      "\n",
      "\n",
      "\n",
      "\n",
      "\n",
      "\n",
      "\n",
      "\n",
      "\n",
      "\n",
      "\n",
      "\n",
      "\n",
      "\n",
      "\n",
      "\n",
      "\n",
      "\n",
      "\n",
      "\n",
      "\n",
      "\n",
      "\n",
      "\n",
      "   Posted in\n",
      "   \n",
      "    car hacks\n",
      "   \n",
      "   ,\n",
      "   \n",
      "    Engineering\n",
      "   \n",
      "   ,\n",
      "   \n",
      "    Featured\n",
      "   \n",
      "   ,\n",
      "   \n",
      "    Laser Hacks\n",
      "   \n",
      "   ,\n",
      "   \n",
      "    Slider\n",
      "   \n",
      "\n",
      "\n",
      "   Tagged\n",
      "   \n",
      "    laser\n",
      "   \n",
      "   ,\n",
      "   \n",
      "    laser headlight\n",
      "   \n",
      "   ,\n",
      "   \n",
      "    laser headlights\n",
      "   \n",
      "   ,\n",
      "   \n",
      "    light\n",
      "   \n",
      "\n",
      "\n",
      "\n",
      "\n",
      "\n",
      "\n"
     ]
    }
   ],
   "source": [
    "import pickle\n",
    "from bs4 import BeautifulSoup\n",
    "\n",
    "# Load the article HTML from the .pkl file\n",
    "with open('article.pkl', 'rb') as f:\n",
    "    article_html = pickle.load(f)\n",
    "\n",
    "# Parse the HTML content with BeautifulSoup\n",
    "soup = BeautifulSoup(article_html, 'html.parser')\n",
    "\n",
    "# Extract and print the text from the article\n",
    "article_text = soup.get_text()\n",
    "print(article_text)\n"
   ]
  },
  {
   "cell_type": "markdown",
   "metadata": {},
   "source": [
    "### Question 3:\n"
   ]
  },
  {
   "cell_type": "markdown",
   "metadata": {},
   "source": [
    "3. Load the article text into a trained `spaCy` pipeline, and determine the 5 most frequent tokens (converted to lower case).  Print the common tokens with an appropriate label.  Additionally, print the tokens their frequencies (with appropriate labels). Make sure to remove things we don't care about (punctuation, stopwords, whitespace)."
   ]
  },
  {
   "cell_type": "code",
   "execution_count": 3,
   "metadata": {},
   "outputs": [
    {
     "name": "stdout",
     "output_type": "stream",
     "text": [
      "Common tokens (with frequency):\n",
      "Token: 'laser' | Frequency: 35\n",
      "Token: 'headlights' | Frequency: 19\n",
      "Token: 'headlight' | Frequency: 11\n",
      "Token: 'technology' | Frequency: 10\n",
      "Token: 'led' | Frequency: 10\n"
     ]
    }
   ],
   "source": [
    "import spacy\n",
    "from collections import Counter\n",
    "import pickle\n",
    "from bs4 import BeautifulSoup\n",
    "\n",
    "# Load the article HTML from the .pkl file\n",
    "with open('article.pkl', 'rb') as f:\n",
    "    article_html = pickle.load(f)\n",
    "\n",
    "# Parse the HTML content with BeautifulSoup\n",
    "soup = BeautifulSoup(article_html, 'html.parser')\n",
    "\n",
    "# Extract the text from the article\n",
    "article_text = soup.get_text()\n",
    "\n",
    "# Load the pre-trained spaCy model (en_core_web_sm is a small model, you can also use a larger model like en_core_web_md or en_core_web_lg)\n",
    "nlp = spacy.load(\"en_core_web_sm\")\n",
    "\n",
    "# Process the article text with spaCy\n",
    "doc = nlp(article_text)\n",
    "\n",
    "# Filter out punctuation, stopwords, and whitespace, and convert tokens to lower case\n",
    "filtered_tokens = [token.text.lower() for token in doc if not token.is_punct and not token.is_stop and not token.is_space]\n",
    "\n",
    "# Calculate the frequency of each token using Counter\n",
    "token_freq = Counter(filtered_tokens)\n",
    "\n",
    "# Get the 5 most frequent tokens\n",
    "most_common_tokens = token_freq.most_common(5)\n",
    "\n",
    "# Print the common tokens with their labels and frequencies\n",
    "print(\"Common tokens (with frequency):\")\n",
    "for token, freq in most_common_tokens:\n",
    "    print(f\"Token: '{token}' | Frequency: {freq}\")\n"
   ]
  },
  {
   "cell_type": "markdown",
   "metadata": {},
   "source": [
    "### Question 4:"
   ]
  },
  {
   "cell_type": "markdown",
   "metadata": {},
   "source": [
    "4. Load the article text into a trained `spaCy` pipeline, and determine the 5 most frequent lemmas (converted to lower case).  Print the common lemmas with an appropriate label.  Additionally, print the lemmas with their frequencies (with appropriate labels). Make sure to remove things we don't care about (punctuation, stopwords, whitespace)."
   ]
  },
  {
   "cell_type": "code",
   "execution_count": 4,
   "metadata": {},
   "outputs": [
    {
     "name": "stdout",
     "output_type": "stream",
     "text": [
      "Common lemmas (with frequency):\n",
      "Lemma: 'laser' | Frequency: 40\n",
      "Lemma: 'headlight' | Frequency: 28\n",
      "Lemma: 'beam' | Frequency: 12\n",
      "Lemma: 'technology' | Frequency: 10\n",
      "Lemma: 'led' | Frequency: 10\n"
     ]
    }
   ],
   "source": [
    "import spacy\n",
    "from collections import Counter\n",
    "import pickle\n",
    "from bs4 import BeautifulSoup\n",
    "\n",
    "# Load the article HTML from the .pkl file\n",
    "with open('article.pkl', 'rb') as f:\n",
    "    article_html = pickle.load(f)\n",
    "\n",
    "# Parse the HTML content with BeautifulSoup\n",
    "soup = BeautifulSoup(article_html, 'html.parser')\n",
    "\n",
    "# Extract the text from the article\n",
    "article_text = soup.get_text()\n",
    "\n",
    "# Load the pre-trained spaCy model (en_core_web_sm is a small model)\n",
    "nlp = spacy.load(\"en_core_web_sm\")\n",
    "\n",
    "# Process the article text with spaCy\n",
    "doc = nlp(article_text)\n",
    "\n",
    "# Filter out punctuation, stopwords, and whitespace, and use the lemma of each token (convert to lower case)\n",
    "filtered_lemmas = [token.lemma_.lower() for token in doc if not token.is_punct and not token.is_stop and not token.is_space]\n",
    "\n",
    "# Calculate the frequency of each lemma using Counter\n",
    "lemma_freq = Counter(filtered_lemmas)\n",
    "\n",
    "# Get the 5 most frequent lemmas\n",
    "most_common_lemmas = lemma_freq.most_common(5)\n",
    "\n",
    "# Print the common lemmas with their frequencies\n",
    "print(\"Common lemmas (with frequency):\")\n",
    "for lemma, freq in most_common_lemmas:\n",
    "    print(f\"Lemma: '{lemma}' | Frequency: {freq}\")\n"
   ]
  },
  {
   "cell_type": "markdown",
   "metadata": {},
   "source": [
    "### Question 5: "
   ]
  },
  {
   "cell_type": "markdown",
   "metadata": {},
   "source": [
    "5. Define the following methods:\n",
    "    * `score_sentence_by_token(sentence, interesting_token)` that takes a sentence and a list of interesting token and returns the number of times that any of the interesting words appear in the sentence divided by the number of words in the sentence\n",
    "    * `score_sentence_by_lemma(sentence, interesting_lemmas)` that takes a sentence and a list of interesting lemmas and returns the number of times that any of the interesting lemmas appear in the sentence divided by the number of words in the sentence\n",
    "    \n",
    "You may find some of the code from the in class notes useful; feel free to use methods (rewrite them in this cell as well).  Test them by showing the score of the first sentence in your article using the frequent tokens and frequent lemmas identified in question 3."
   ]
  },
  {
   "cell_type": "code",
   "execution_count": 5,
   "metadata": {},
   "outputs": [
    {
     "name": "stdout",
     "output_type": "stream",
     "text": [
      "Token Score: 0.2222222222222222\n",
      "Lemma Score: 0.3333333333333333\n"
     ]
    }
   ],
   "source": [
    "def score_sentence_by_token(sentence, interesting_tokens):\n",
    "    # Tokenize the sentence and convert each token to lowercase\n",
    "    tokens = [token.text.lower() for token in sentence if not token.is_punct and not token.is_space]\n",
    "    # Count how many interesting tokens appear in the sentence\n",
    "    interesting_count = sum(1 for token in tokens if token in interesting_tokens)\n",
    "    # Return the ratio of interesting tokens to total tokens\n",
    "    return interesting_count / len(tokens) if len(tokens) > 0 else 0\n",
    "\n",
    "def score_sentence_by_lemma(sentence, interesting_lemmas):\n",
    "    # Tokenize the sentence and get lemmatized tokens (convert to lowercase)\n",
    "    lemmas = [token.lemma_.lower() for token in sentence if not token.is_punct and not token.is_space]\n",
    "    # Count how many interesting lemmas appear in the sentence\n",
    "    interesting_count = sum(1 for lemma in lemmas if lemma in interesting_lemmas)\n",
    "    # Return the ratio of interesting lemmas to total lemmas\n",
    "    return interesting_count / len(lemmas) if len(lemmas) > 0 else 0\n",
    "\n",
    "\n",
    "\n",
    "import spacy\n",
    "\n",
    "# Load spaCy model\n",
    "nlp = spacy.load(\"en_core_web_sm\")\n",
    "\n",
    "# Example sentence (can be the first sentence from the article)\n",
    "sentence = nlp(\"Laser headlights are a new technology used in cars.\")\n",
    "\n",
    "# Frequent tokens and lemmas from question 3\n",
    "interesting_tokens = ['laser', 'headlight', 'work', 'technology', 'light']\n",
    "interesting_lemmas = ['laser', 'headlight', 'work', 'technology', 'light']\n",
    "\n",
    "# Get the score for the sentence based on tokens and lemmas\n",
    "token_score = score_sentence_by_token(sentence, interesting_tokens)\n",
    "lemma_score = score_sentence_by_lemma(sentence, interesting_lemmas)\n",
    "\n",
    "print(f\"Token Score: {token_score}\")\n",
    "print(f\"Lemma Score: {lemma_score}\")\n"
   ]
  },
  {
   "cell_type": "markdown",
   "metadata": {},
   "source": [
    "### Question 6:"
   ]
  },
  {
   "cell_type": "markdown",
   "metadata": {},
   "source": [
    "6. Make a list containing the scores (using tokens) of every sentence in the article, and plot a histogram with appropriate titles and axis labels of the scores. From your histogram, what seems to be the most common range of scores (put the answer in a comment after your code)?"
   ]
  },
  {
   "cell_type": "code",
   "execution_count": 6,
   "metadata": {},
   "outputs": [
    {
     "data": {
      "image/png": "[encoded data removed]",
      "text/plain": [
       "<Figure size 640x480 with 1 Axes>"
      ]
     },
     "metadata": {},
     "output_type": "display_data"
    },
    {
     "name": "stdout",
     "output_type": "stream",
     "text": [
      "Token scores for each sentence: [0.09090909090909091, 0.0, 0.0, 0.0, 0.1, 0.5, 0.25, 0.08695652173913043, 0.047619047619047616, 0.14285714285714285, 0.1875, 0.0, 0.045454545454545456, 0.1111111111111111, 0.045454545454545456, 0.1875, 0.1, 0.09090909090909091, 0.038461538461538464, 0.0, 0.0, 0.045454545454545456, 0.03773584905660377, 0.0, 0.03333333333333333, 0.23529411764705882, 0.05555555555555555, 0.0, 0.047619047619047616, 0.06060606060606061, 0.05263157894736842, 0.0, 0.06451612903225806, 0.0, 0.0, 0.0, 0.0, 0.07142857142857142, 0.07142857142857142, 0.02857142857142857, 0.0, 0.0, 0.0, 0.125, 0.12195121951219512, 0.03225806451612903, 0.0, 0.1111111111111111, 0.1111111111111111, 0.04, 0.04, 0.030303030303030304, 0.08695652173913043, 0.07407407407407407, 0.041666666666666664, 0.0, 0.375]\n"
     ]
    }
   ],
   "source": [
    "import spacy\n",
    "import matplotlib.pyplot as plt\n",
    "from collections import Counter\n",
    "import pickle\n",
    "from bs4 import BeautifulSoup\n",
    "\n",
    "# Load the article HTML from the .pkl file\n",
    "with open('article.pkl', 'rb') as f:\n",
    "    article_html = pickle.load(f)\n",
    "\n",
    "# Parse the HTML content with BeautifulSoup\n",
    "soup = BeautifulSoup(article_html, 'html.parser')\n",
    "\n",
    "# Extract the text from the article\n",
    "article_text = soup.get_text()\n",
    "\n",
    "# Load the pre-trained spaCy model\n",
    "nlp = spacy.load(\"en_core_web_sm\")\n",
    "\n",
    "# Process the article text with spaCy\n",
    "doc = nlp(article_text)\n",
    "\n",
    "# Frequent tokens from question 3 (example)\n",
    "interesting_tokens = ['laser', 'headlight', 'work', 'technology', 'light']\n",
    "\n",
    "# Function to calculate score for a sentence based on tokens\n",
    "def score_sentence_by_token(sentence, interesting_tokens):\n",
    "    tokens = [token.text.lower() for token in sentence if not token.is_punct and not token.is_space]\n",
    "    interesting_count = sum(1 for token in tokens if token in interesting_tokens)\n",
    "    return interesting_count / len(tokens) if len(tokens) > 0 else 0\n",
    "\n",
    "# List to hold the scores for each sentence\n",
    "scores = []\n",
    "\n",
    "# Loop through each sentence in the article\n",
    "for sentence in doc.sents:\n",
    "    score = score_sentence_by_token(sentence, interesting_tokens)\n",
    "    scores.append(score)\n",
    "\n",
    "# Plot the histogram of the scores\n",
    "plt.hist(scores, bins=20, edgecolor='black')\n",
    "plt.title('Histogram of Token-Based Scores per Sentence')\n",
    "plt.xlabel('Score')\n",
    "plt.ylabel('Frequency')\n",
    "plt.grid(True)\n",
    "plt.show()\n",
    "\n",
    "# Token scores for each sentence\n",
    "print(f\"Token scores for each sentence: {scores}\")\n",
    "\n",
    "# The most common range of scores seems to be from 0 to 0.2."
   ]
  },
  {
   "cell_type": "markdown",
   "metadata": {},
   "source": [
    "### Question 7:"
   ]
  },
  {
   "cell_type": "markdown",
   "metadata": {},
   "source": [
    "7. Make a list containing the scores (using lemmas) of every sentence in the article, and plot a histogram with appropriate titles and axis labels of the scores.  From your histogram, what seems to be the most common range of scores (put the answer in a comment after your code)?"
   ]
  },
  {
   "cell_type": "code",
   "execution_count": 7,
   "metadata": {},
   "outputs": [
    {
     "data": {
      "image/png": "[encoded data removed]",
      "text/plain": [
       "<Figure size 640x480 with 1 Axes>"
      ]
     },
     "metadata": {},
     "output_type": "display_data"
    }
   ],
   "source": [
    "import spacy\n",
    "import matplotlib.pyplot as plt\n",
    "import pickle\n",
    "from bs4 import BeautifulSoup\n",
    "\n",
    "# Load the article HTML from the .pkl file\n",
    "with open('article.pkl', 'rb') as f:\n",
    "    article_html = pickle.load(f)\n",
    "\n",
    "# Parse the HTML content with BeautifulSoup\n",
    "soup = BeautifulSoup(article_html, 'html.parser')\n",
    "\n",
    "# Extract the text from the article\n",
    "article_text = soup.get_text()\n",
    "\n",
    "# Load the pre-trained spaCy model\n",
    "nlp = spacy.load(\"en_core_web_sm\")\n",
    "\n",
    "# Process the article text with spaCy\n",
    "doc = nlp(article_text)\n",
    "\n",
    "# Frequent lemmas from question 4 (example)\n",
    "interesting_lemmas = ['laser', 'headlight', 'work', 'technology', 'light']\n",
    "\n",
    "# Function to calculate score for a sentence based on lemmas\n",
    "def score_sentence_by_lemma(sentence, interesting_lemmas):\n",
    "    lemmas = [token.lemma_.lower() for token in sentence if not token.is_punct and not token.is_space]\n",
    "    interesting_count = sum(1 for lemma in lemmas if lemma in interesting_lemmas)\n",
    "    return interesting_count / len(lemmas) if len(lemmas) > 0 else 0\n",
    "\n",
    "# List to hold the scores for each sentence\n",
    "lemma_scores = []\n",
    "\n",
    "# Loop through each sentence in the article\n",
    "for sentence in doc.sents:\n",
    "    score = score_sentence_by_lemma(sentence, interesting_lemmas)\n",
    "    lemma_scores.append(score)\n",
    "\n",
    "# Plot the histogram of the lemma scores\n",
    "plt.hist(lemma_scores, bins=20, edgecolor='black')\n",
    "plt.title('Histogram of Lemma-Based Scores per Sentence')\n",
    "plt.xlabel('Score')\n",
    "plt.ylabel('Frequency')\n",
    "plt.grid(True)\n",
    "plt.show()\n",
    "\n",
    "# The most common range of scores seems to be from 0 to 0.15.\n"
   ]
  },
  {
   "cell_type": "markdown",
   "metadata": {},
   "source": [
    "### Question 8: "
   ]
  },
  {
   "cell_type": "markdown",
   "metadata": {},
   "source": [
    "8. Which tokens and lexems would be ommitted from the lists generated in questions 3 and 4 if we only wanted to consider nouns as interesting words?  How might we change the code to only consider nouns? Put your answer in this Markdown cell (you can edit it by double clicking it)."
   ]
  },
  {
   "cell_type": "markdown",
   "metadata": {},
   "source": [
    "If we only wanted to consider nouns as interesting words, the following tokens and lemmas would be omitted from the lists in questions 3 and 4:\n",
    "\n",
    "Tokens:\n",
    "\n",
    "Adjectives (e.g., \"beautiful\", \"new\")\n",
    "Verbs (e.g., \"run\", \"work\")\n",
    "Adverbs (e.g., \"quickly\", \"rarely\")\n",
    "Pronouns (e.g., \"he\", \"they\")\n",
    "Prepositions (e.g., \"in\", \"on\")\n",
    "Conjunctions (e.g., \"and\", \"but\")\n",
    "Lemmas:\n",
    "\n",
    "Any lemmas derived from the above parts of speech (e.g., \"run\" -> \"run\", \"beautiful\" -> \"beautiful\").\n",
    "How to change the code to only consider nouns:\n",
    "In both score_sentence_by_token and score_sentence_by_lemma, filter the tokens and lemmas to only include nouns:\n",
    "For tokens: Add a condition to check if token.pos_ is 'NOUN' or 'PROPN' (Proper Nouns).\n",
    "For lemmas: Similarly, use token.pos_ to filter and only include lemmas for nouns."
   ]
  },
  {
   "cell_type": "code",
   "execution_count": 8,
   "metadata": {},
   "outputs": [
    {
     "name": "stderr",
     "output_type": "stream",
     "text": [
      "[NbConvertApp] Converting notebook web-scraping.ipynb to html\n",
      "[NbConvertApp] WARNING | Alternative text is missing on 2 image(s).\n",
      "[NbConvertApp] Writing 384575 bytes to web-scraping.html\n"
     ]
    }
   ],
   "source": [
    "# Convert to HTML\n",
    "!jupyter nbconvert --to html web-scraping.ipynb"
   ]
  }
 ],
 "metadata": {
  "kernelspec": {
   "display_name": ".venv",
   "language": "python",
   "name": "python3"
  },
  "language_info": {
   "codemirror_mode": {
    "name": "ipython",
    "version": 3
   },
   "file_extension": ".py",
   "mimetype": "text/x-python",
   "name": "python",
   "nbconvert_exporter": "python",
   "pygments_lexer": "ipython3",
   "version": "3.11.9"
  }
 },
 "nbformat": 4,
 "nbformat_minor": 4
}
